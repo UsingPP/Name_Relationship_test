{
 "cells": [
  {
   "cell_type": "code",
   "execution_count": 33,
   "metadata": {},
   "outputs": [],
   "source": [
    "import os\n",
    "import sys\n",
    "import urllib.request\n",
    "import json"
   ]
  },
  {
   "cell_type": "code",
   "execution_count": 34,
   "metadata": {},
   "outputs": [
    {
     "name": "stdout",
     "output_type": "stream",
     "text": [
      "choose your target language you want translate\n",
      "당신이 원하는 번역 언어를 선택해주세요\n",
      "1.EN  2. JP  3. zh-CN  4. zh-TW\n",
      "번역하고 싶은 문장을 작성하세요\n"
     ]
    }
   ],
   "source": [
    "print(\"choose your target language you want translate\")\n",
    "print(\"당신이 원하는 번역 언어를 선택해주세요\")\n",
    "print(\"1.EN  2. JP  3. zh-CN  4. zh-TW\")\n",
    "while(True) :\n",
    "    target_lan = input()\n",
    "    if target_lan == '1' :\n",
    "        target = \"en\"\n",
    "        break\n",
    "    elif target_lan == '2' :\n",
    "        target = 'ja'\n",
    "        break\t\n",
    "    elif target_lan == '3' :\n",
    "        target ='zh-CN'\n",
    "        break\n",
    "    elif target_lan == '4' :\n",
    "        target ='zh-TW'\n",
    "        break\n",
    "    else :\n",
    "        print(\"RANGE OVER::CHOOSE 1~4 NUM\")\n",
    "\n",
    "print(\"번역하고 싶은 문장을 작성하세요\")\n",
    "target_str = input()"
   ]
  },
  {
   "cell_type": "code",
   "execution_count": 35,
   "metadata": {},
   "outputs": [],
   "source": [
    "client_id = \"Xhm5XP0diWwEpFvlOw6a\" # 개발자센터에서 발급받은 Client ID 값\n",
    "client_secret = \"TauLte7a_q\" # 개발자센터에서 발급받은 Client Secret 값\n",
    "encText = urllib.parse.quote(target_str) # 번역하려는 문장\n",
    "\n",
    "source =  \"ko\" #출발 언어 코드\n",
    "\n",
    "data = \"source=\" + source + \"&target=\" + target + \"&text=\" + encText\n",
    "url = \"https://openapi.naver.com/v1/papago/n2mt\""
   ]
  },
  {
   "cell_type": "code",
   "execution_count": 36,
   "metadata": {},
   "outputs": [
    {
     "name": "stdout",
     "output_type": "stream",
     "text": [
      "\n",
      "こんにちは\n"
     ]
    }
   ],
   "source": [
    "request = urllib.request.Request(url)\n",
    "request.add_header(\"X-Naver-Client-Id\",client_id)\n",
    "request.add_header(\"X-Naver-Client-Secret\",client_secret)\n",
    "response = urllib.request.urlopen(request, data=data.encode(\"utf-8\"))\n",
    "\n",
    "rescode = response.getcode()\n",
    "\n",
    "if(rescode==200):\n",
    "    response_body = response.read().decode('utf-8')\n",
    "    responseTojson = json.loads(response_body)\n",
    "    response_body_target = responseTojson['message']['result']['translatedText']\n",
    "    print()\n",
    "    print(response_body_target)\n",
    "else:\n",
    "    print(\"Error Code:\" + rescode)"
   ]
  }
 ],
 "metadata": {
  "kernelspec": {
   "display_name": "Python 3",
   "language": "python",
   "name": "python3"
  },
  "language_info": {
   "codemirror_mode": {
    "name": "ipython",
    "version": 3
   },
   "file_extension": ".py",
   "mimetype": "text/x-python",
   "name": "python",
   "nbconvert_exporter": "python",
   "pygments_lexer": "ipython3",
   "version": "3.11.4"
  },
  "orig_nbformat": 4
 },
 "nbformat": 4,
 "nbformat_minor": 2
}
